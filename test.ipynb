{
 "cells": [
  {
   "cell_type": "code",
   "execution_count": null,
   "id": "40094ec2-675b-4948-b46d-b0a1cb0e2a5a",
   "metadata": {},
   "outputs": [],
   "source": [
    "from pathlib import Path\n",
    "from audiotoken import AudioToken, Tokenizers\n",
    "from IPython.display import display, Audio"
   ]
  },
  {
   "cell_type": "markdown",
   "id": "3c9a8283-6a08-4bbe-ba62-428b77af9394",
   "metadata": {},
   "source": [
    "Acoustic tokenizer"
   ]
  },
  {
   "cell_type": "code",
   "execution_count": null,
   "id": "60a80077-2a2d-4bb8-bc3e-7176f2950f2d",
   "metadata": {},
   "outputs": [],
   "source": [
    "encoder = AudioToken(tokenizer=Tokenizers.acoustic)"
   ]
  },
  {
   "cell_type": "code",
   "execution_count": null,
   "id": "67259d89-421b-48ca-9e66-c9e2f7a85e71",
   "metadata": {
    "scrolled": true
   },
   "outputs": [],
   "source": [
    "audio_path = '/home/romit/Downloads/audio/sent_3.wav'\n",
    "encoded_audio = encoder.encode(Path(audio_path))\n",
    "decoded_audio = encoder.decode(encoded_audio)"
   ]
  },
  {
   "cell_type": "code",
   "execution_count": null,
   "id": "30deceaf-c946-46c5-be1c-ba8f3c8996c8",
   "metadata": {},
   "outputs": [],
   "source": [
    "print('Original audio')\n",
    "display(Audio(audio_path))\n",
    "print('Reconstructed audio')\n",
    "display(Audio(decoded_audio, rate=24_000))"
   ]
  },
  {
   "cell_type": "markdown",
   "id": "28054583-f9ea-42da-b0e9-5abb0460cfc1",
   "metadata": {},
   "source": [
    "Semantic tokenizer"
   ]
  },
  {
   "cell_type": "code",
   "execution_count": null,
   "id": "6c0098a8-caeb-42d3-b4e7-67f8361b1e3c",
   "metadata": {},
   "outputs": [],
   "source": [
    "encoder = AudioToken(tokenizer=Tokenizers.semantic_m)"
   ]
  },
  {
   "cell_type": "code",
   "execution_count": null,
   "id": "fe74fbe1-2e4c-4f7a-9fdd-cab08e01a6d7",
   "metadata": {},
   "outputs": [],
   "source": [
    "audio_path = '/home/romit/Downloads/audio/sent_3.wav'\n",
    "encoded_audio = encoder.encode(Path(audio_path))\n",
    "decoded_audio = encoder.decode(encoded_audio)"
   ]
  },
  {
   "cell_type": "code",
   "execution_count": null,
   "id": "d1acecc9-94b0-41c0-be98-d51b394d8d0f",
   "metadata": {},
   "outputs": [],
   "source": [
    "decoded_audio.shape"
   ]
  },
  {
   "cell_type": "code",
   "execution_count": null,
   "id": "9f3f5f1c-c710-4769-b6a5-705bb5d45782",
   "metadata": {},
   "outputs": [],
   "source": [
    "print('Original audio')\n",
    "display(Audio(audio_path))\n",
    "print('Reconstructed audio')\n",
    "display(Audio(decoded_audio, rate=24_000))"
   ]
  }
 ],
 "metadata": {
  "kernelspec": {
   "display_name": "Python 3 (ipykernel)",
   "language": "python",
   "name": "python3"
  },
  "language_info": {
   "codemirror_mode": {
    "name": "ipython",
    "version": 3
   },
   "file_extension": ".py",
   "mimetype": "text/x-python",
   "name": "python",
   "nbconvert_exporter": "python",
   "pygments_lexer": "ipython3",
   "version": "3.11.7"
  }
 },
 "nbformat": 4,
 "nbformat_minor": 5
}
