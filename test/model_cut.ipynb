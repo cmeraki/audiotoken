{
 "cells": [
  {
   "cell_type": "markdown",
   "id": "bbbbddb3-6e81-438c-ab23-1a4ab0e268f4",
   "metadata": {},
   "source": [
    "Wav2VecBert2"
   ]
  },
  {
   "cell_type": "code",
   "execution_count": null,
   "id": "bc1b2b82-12b2-479e-82d3-5f808f21ab3c",
   "metadata": {},
   "outputs": [],
   "source": [
    "from transformers import Wav2Vec2BertModel, AutoConfig, AutoModel"
   ]
  },
  {
   "cell_type": "code",
   "execution_count": null,
   "id": "5f2df53b-1340-419a-b68f-1137e047f217",
   "metadata": {},
   "outputs": [],
   "source": [
    "model_config = AutoConfig.from_pretrained('facebook/w2v-bert-2.0')\n",
    "old_model = Wav2Vec2BertModel.from_pretrained('facebook/w2v-bert-2.0')\n",
    "\n",
    "model_config.num_hidden_layers = 21\n",
    "new_model = Wav2Vec2BertModel.from_config(model_config)"
   ]
  },
  {
   "cell_type": "code",
   "execution_count": null,
   "id": "81bdfb31-3b55-464a-a36f-3769124367d3",
   "metadata": {
    "scrolled": true
   },
   "outputs": [],
   "source": [
    "# Copy the weights from the original model to the trimmed model\n",
    "old_state_dict = old_model.state_dict()\n",
    "new_state_dict = new_model.state_dict()\n",
    "\n",
    "for key in new_state_dict.keys():\n",
    "    print(f'Copying {key}')\n",
    "    new_state_dict[key] = old_state_dict[key]\n",
    "\n",
    "new_model.load_state_dict(new_state_dict)"
   ]
  },
  {
   "cell_type": "code",
   "execution_count": null,
   "id": "920fdbd5-57ca-40f2-a3c6-d98d9375cf63",
   "metadata": {},
   "outputs": [],
   "source": [
    "new_model.save_pretrained('./model/trimmed/wav2vecbert2')"
   ]
  },
  {
   "cell_type": "markdown",
   "id": "641fb51b-b64a-4625-8334-a47c13f4b61f",
   "metadata": {},
   "source": [
    "Hubert"
   ]
  },
  {
   "cell_type": "code",
   "execution_count": null,
   "id": "95b6354d-041e-48a3-9e48-127219b4247a",
   "metadata": {},
   "outputs": [],
   "source": [
    "from transformers import HubertModel, AutoConfig, AutoModel"
   ]
  },
  {
   "cell_type": "code",
   "execution_count": null,
   "id": "dee2d55f-bf27-4230-919e-d3da5e56af4a",
   "metadata": {},
   "outputs": [],
   "source": [
    "model_config = AutoConfig.from_pretrained('voidful/mhubert-base')\n",
    "old_model = HubertModel.from_pretrained('voidful/mhubert-base')\n",
    "\n",
    "model_config.num_hidden_layers = 11\n",
    "new_model = AutoModel.from_config(model_config)"
   ]
  },
  {
   "cell_type": "code",
   "execution_count": null,
   "id": "1d9dda3b-a09b-4e59-80ba-de567df65f85",
   "metadata": {},
   "outputs": [],
   "source": [
    "# Copy the weights from the original model to the trimmed model\n",
    "old_state_dict = old_model.state_dict()\n",
    "new_state_dict = new_model.state_dict()\n",
    "\n",
    "for key in new_state_dict.keys():\n",
    "    print(f'Copying {key}')\n",
    "    new_state_dict[key] = old_state_dict[key]\n",
    "\n",
    "new_model.load_state_dict(new_state_dict)"
   ]
  },
  {
   "cell_type": "code",
   "execution_count": null,
   "id": "344f6af9-fff5-49e7-b28d-9031d7f76745",
   "metadata": {},
   "outputs": [],
   "source": [
    "new_model.save_pretrained('./model/trimmed/hubert')"
   ]
  },
  {
   "cell_type": "code",
   "execution_count": null,
   "id": "83e56aab-9db8-4432-8265-81554b4abbea",
   "metadata": {},
   "outputs": [],
   "source": []
  }
 ],
 "metadata": {
  "kernelspec": {
   "display_name": "Python 3 (ipykernel)",
   "language": "python",
   "name": "python3"
  },
  "language_info": {
   "codemirror_mode": {
    "name": "ipython",
    "version": 3
   },
   "file_extension": ".py",
   "mimetype": "text/x-python",
   "name": "python",
   "nbconvert_exporter": "python",
   "pygments_lexer": "ipython3",
   "version": "3.11.6"
  }
 },
 "nbformat": 4,
 "nbformat_minor": 5
}
