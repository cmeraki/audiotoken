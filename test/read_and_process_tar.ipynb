{
 "cells": [
  {
   "cell_type": "code",
   "execution_count": null,
   "id": "dcec9b33-8a9c-45c6-ae6b-a6d5dff71e85",
   "metadata": {},
   "outputs": [],
   "source": [
    "import os\n",
    "import zipfile\n",
    "import tarfile\n",
    "import torch\n",
    "from tqdm import tqdm\n",
    "from torchaudio.io import StreamReader\n",
    "import torchaudio\n",
    "import time\n",
    "from IPython.display import Audio, display"
   ]
  },
  {
   "cell_type": "code",
   "execution_count": null,
   "id": "cef26c12-bd57-43ff-9725-621b3df45d8a",
   "metadata": {},
   "outputs": [],
   "source": [
    "def process_audio_chunks(\n",
    "    file_name,\n",
    "    file_stream,\n",
    "    chunk_size,\n",
    "    target_sample_rate\n",
    "):\n",
    "    streamer = StreamReader(file_stream)\n",
    "    # metadata = streamer.get_src_stream_info(0)\n",
    "\n",
    "    streamer.add_basic_audio_stream(\n",
    "        frames_per_chunk=int(chunk_size*target_sample_rate),\n",
    "        sample_rate=target_sample_rate,\n",
    "        decoder_option={\"threads\": \"0\"}\n",
    "    )\n",
    "\n",
    "    for idx, (chunk,) in enumerate(streamer.stream()):\n",
    "        assert chunk.shape[-1] == 1, f\"Audio needs to be mono, provided {chunk.shape[-1]} channels for {file_name}\"\n",
    "\n",
    "        start_idx = idx * chunk_size\n",
    "        end_idx = start_idx + chunk_size\n",
    "        base, ext = os.path.splitext(file_name)\n",
    "        updated_file_name = f\"{base}__{start_idx}_{end_idx}{ext}\"\n",
    "\n",
    "    return idx\n",
    "\n",
    "\n",
    "def iterate_tar(x, model_sample_rate: int):\n",
    "    with tarfile.open(x, 'r') as tar:\n",
    "        start_time = time.time()\n",
    "        idx = 0\n",
    "\n",
    "        pbar = tqdm(position=0, leave=True)\n",
    "\n",
    "        for member in tar.getmembers():#, total=total):\n",
    "            # if idx == 0:\n",
    "                # print(f'starting 1st iter took, {time.time() - start_time}s')\n",
    "\n",
    "            if not member.isfile():\n",
    "                continue\n",
    "\n",
    "            file_content = tar.extractfile(member)\n",
    "            file_name = member.name\n",
    "\n",
    "            # if idx !=0:\n",
    "                # print(f'Extracting file took: {time.time() - start_time}s')\n",
    "\n",
    "            if file_content is None:\n",
    "                continue\n",
    "\n",
    "            total_chunks = process_audio_chunks(\n",
    "                file_name=file_name,\n",
    "                file_stream=file_content,\n",
    "                target_sample_rate=model_sample_rate,\n",
    "                chunk_size=30\n",
    "            )\n",
    "\n",
    "            pbar.n += total_chunks\n",
    "            pbar.refresh()\n",
    "\n",
    "            start_time = time.time()\n",
    "            idx += 1"
   ]
  },
  {
   "cell_type": "code",
   "execution_count": null,
   "id": "589f159c-9dce-4901-bb5f-a6106e396c00",
   "metadata": {},
   "outputs": [],
   "source": [
    "tar_file = '/home/romit/Downloads/audio/youtube/P0001.tar'"
   ]
  },
  {
   "cell_type": "code",
   "execution_count": null,
   "id": "e2473bed-594e-4730-af8b-d3618e8287a5",
   "metadata": {
    "scrolled": true
   },
   "outputs": [],
   "source": [
    "idx = 0\n",
    "total_data = []\n",
    "\n",
    "for fn, data in iterate_tar(tar_file, 16000):\n",
    "    # print(fn, data.shape)\n",
    "    # total_data.append(data)\n",
    "    idx += 1\n",
    "\n",
    "    # if idx == 1000:\n",
    "    #     break"
   ]
  },
  {
   "cell_type": "code",
   "execution_count": null,
   "id": "acf624c0-f2ca-4321-923f-973d8ca9c270",
   "metadata": {},
   "outputs": [],
   "source": [
    "display(Audio(total_data[0], rate=16000))"
   ]
  },
  {
   "cell_type": "code",
   "execution_count": null,
   "id": "e22804cf-d3b5-4c17-aeb5-d4ce47ea010a",
   "metadata": {
    "scrolled": true
   },
   "outputs": [],
   "source": [
    "%%time\n",
    "with tarfile.open('/home/romit/Downloads/audio/large_test/P0011.tar', 'r:') as tar:\n",
    "    t1 = time.perf_counter(), time.process_time()\n",
    "    all_names = tar.getmembers()\n",
    "    t2 = time.perf_counter(), time.process_time()"
   ]
  },
  {
   "cell_type": "code",
   "execution_count": null,
   "id": "be13b8ca-ec27-4910-91d3-2629f462cc79",
   "metadata": {
    "scrolled": true
   },
   "outputs": [],
   "source": [
    "%%time\n",
    "with tarfile.open('/home/romit/Downloads/audio/P0144.tgz', 'r:gz') as tar:\n",
    "    t1 = time.perf_counter(), time.process_time()\n",
    "    all_names = tar.getmembers()\n",
    "    t2 = time.perf_counter(), time.process_time()"
   ]
  },
  {
   "cell_type": "code",
   "execution_count": null,
   "id": "a6cff4f1-bd31-4c99-ab9b-4d88baa055e1",
   "metadata": {},
   "outputs": [],
   "source": [
    "print(f\" Real time: {t2[0] - t1[0]:.2f} seconds\")\n",
    "print(f\" CPU time: {t2[1] - t1[1]:.2f} seconds\")"
   ]
  },
  {
   "cell_type": "code",
   "execution_count": null,
   "id": "d801b303-f872-48b7-8c11-4b216d32f871",
   "metadata": {},
   "outputs": [],
   "source": [
    "import os\n",
    "import tarfile\n",
    "import shutil\n",
    "from tqdm import tqdm\n",
    "\n",
    "def convert_tgz_to_tar(tgz_file_path, output_dir):\n",
    "    if not os.path.exists(output_dir):\n",
    "        os.makedirs(output_dir)\n",
    "    \n",
    "    base_name = os.path.basename(tgz_file_path).rsplit('.', 1)[0]\n",
    "    \n",
    "    temp_dir = os.path.join(output_dir, base_name)\n",
    "    if not os.path.exists(temp_dir):\n",
    "        os.makedirs(temp_dir)\n",
    "    \n",
    "    try:\n",
    "        # Uncompress tgz\n",
    "        with tarfile.open(tgz_file_path, 'r:gz') as tar:\n",
    "            tar.extractall(path=temp_dir)\n",
    "\n",
    "        # Compress to tar\n",
    "        tar_file_path = os.path.join(output_dir, base_name + '.tar')\n",
    "        with tarfile.open(tar_file_path, 'w') as tar:\n",
    "            tar.add(temp_dir, arcname=os.path.basename(temp_dir))\n",
    "        \n",
    "        print(f\"Converted {tgz_file_path} to {tar_file_path}\")\n",
    "\n",
    "    except Exception as err:\n",
    "        print(f'Error: {err} at {tgz_file_path}')\n",
    "\n",
    "    finally:\n",
    "        # Clean up the temporary directory\n",
    "        shutil.rmtree(temp_dir)"
   ]
  },
  {
   "cell_type": "code",
   "execution_count": null,
   "id": "39707218-4d5b-4ce8-ad9c-f577b7883d8f",
   "metadata": {},
   "outputs": [],
   "source": [
    "tgz = [\n",
    "    '/home/romit/Downloads/audio/large_test/P0011.tgz',\n",
    "    '/home/romit/Downloads/audio/large_test/P0012.tgz'\n",
    "]"
   ]
  },
  {
   "cell_type": "code",
   "execution_count": null,
   "id": "34ce4d55-a0aa-42dd-8c20-551a863e2747",
   "metadata": {},
   "outputs": [],
   "source": [
    "for t in tqdm(tgz):\n",
    "    convert_tgz_to_tar(t, '/home/romit/Downloads/audio/large_test')"
   ]
  },
  {
   "cell_type": "code",
   "execution_count": null,
   "id": "31f7314e-3817-4a79-82f9-81f50dac7216",
   "metadata": {},
   "outputs": [],
   "source": [
    "5 s\n",
    "50"
   ]
  }
 ],
 "metadata": {
  "kernelspec": {
   "display_name": "Python 3 (ipykernel)",
   "language": "python",
   "name": "python3"
  },
  "language_info": {
   "codemirror_mode": {
    "name": "ipython",
    "version": 3
   },
   "file_extension": ".py",
   "mimetype": "text/x-python",
   "name": "python",
   "nbconvert_exporter": "python",
   "pygments_lexer": "ipython3",
   "version": "3.11.7"
  }
 },
 "nbformat": 4,
 "nbformat_minor": 5
}
