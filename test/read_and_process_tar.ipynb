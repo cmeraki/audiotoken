{
 "cells": [
  {
   "cell_type": "code",
   "execution_count": null,
   "id": "dcec9b33-8a9c-45c6-ae6b-a6d5dff71e85",
   "metadata": {},
   "outputs": [],
   "source": [
    "import zipfile\n",
    "import tarfile\n",
    "import torch\n",
    "from tqdm import tqdm\n",
    "from torchaudio.io import StreamReader\n",
    "import torchaudio\n",
    "import time\n",
    "from IPython.display import Audio, display"
   ]
  },
  {
   "cell_type": "code",
   "execution_count": null,
   "id": "cef26c12-bd57-43ff-9725-621b3df45d8a",
   "metadata": {},
   "outputs": [],
   "source": [
    "def iterate_chunk(\n",
    "    file_name,\n",
    "    file_stream,\n",
    "    chunk_size,\n",
    "    target_sample_rate\n",
    "):\n",
    "    streamer = StreamReader(file_stream)    \n",
    "    metadata = streamer.get_src_stream_info(0)\n",
    "    \n",
    "    streamer.add_basic_audio_stream(\n",
    "        frames_per_chunk=int(chunk_size*target_sample_rate),\n",
    "        sample_rate=target_sample_rate,\n",
    "        decoder_option={\n",
    "            \"threads\": \"0\", # Let ffmpeg decide\n",
    "        }\n",
    "    )\n",
    "\n",
    "    for (chunk,) in streamer.stream():\n",
    "        yield file_name, chunk.reshape(1, -1)\n",
    "\n",
    "def iterate_tar(x):\n",
    "    with tarfile.open(x, 'r') as tar:\n",
    "        for member in tar.getmembers():\n",
    "            start_time = time.time()\n",
    "            if not member.isfile():\n",
    "                continue\n",
    "\n",
    "            file_content = tar.extractfile(member)\n",
    "            file_name = member.name\n",
    "            \n",
    "            if file_content is None:\n",
    "                logger.error(f\"Error extracting file {file_name} from {x}\")\n",
    "                continue\n",
    "\n",
    "            yield from iterate_chunk(\n",
    "                file_name,\n",
    "                file_content,\n",
    "                target_sample_rate=16_000,\n",
    "                chunk_size=30\n",
    "            )\n",
    "\n",
    "\n",
    "def iterate_zip(x):\n",
    "    with zipfile.ZipFile(x, 'r') as zip_file:\n",
    "        for file_info in zip_file.infolist():\n",
    "            file_content = zip_file.open(file_info.filename)\n",
    "            file_name = file_info.filename\n",
    "\n",
    "            if file_info.is_dir():\n",
    "                print(f'Found directory: {file_info}')\n",
    "\n",
    "            print(f'found  {file_name}')"
   ]
  },
  {
   "cell_type": "code",
   "execution_count": null,
   "id": "01276b5a-7ef4-410f-a29f-ec0efbf43cfc",
   "metadata": {},
   "outputs": [],
   "source": [
    "zipf = '/home/romit/Downloads/Malayalam.zip'"
   ]
  },
  {
   "cell_type": "code",
   "execution_count": null,
   "id": "44bacbbe-07b3-4dbd-a28d-1cd66f20bb05",
   "metadata": {},
   "outputs": [],
   "source": [
    "temp = iterate_zip(zipf)"
   ]
  },
  {
   "cell_type": "code",
   "execution_count": null,
   "id": "f0ee6cc2-17ec-4ed2-b53d-e52bb8d5f197",
   "metadata": {},
   "outputs": [],
   "source": [
    "temp."
   ]
  },
  {
   "cell_type": "code",
   "execution_count": null,
   "id": "dd548c01-3bf5-43be-b462-3cfaa32a31e6",
   "metadata": {},
   "outputs": [],
   "source": []
  },
  {
   "cell_type": "code",
   "execution_count": null,
   "id": "589f159c-9dce-4901-bb5f-a6106e396c00",
   "metadata": {},
   "outputs": [],
   "source": [
    "tar_file = '/home/romit/Downloads/audio/P0001.tgz'"
   ]
  },
  {
   "cell_type": "code",
   "execution_count": null,
   "id": "e2473bed-594e-4730-af8b-d3618e8287a5",
   "metadata": {
    "scrolled": true
   },
   "outputs": [],
   "source": [
    "idx = 0\n",
    "total_data = []\n",
    "\n",
    "for fn, data in tqdm(iterate_tar(tar_file)):\n",
    "    # print(fn, data.shape)\n",
    "    # total_data.append(data)\n",
    "    idx += 1\n",
    "\n",
    "    if idx == 1000:\n",
    "        break"
   ]
  },
  {
   "cell_type": "code",
   "execution_count": null,
   "id": "acf624c0-f2ca-4321-923f-973d8ca9c270",
   "metadata": {},
   "outputs": [],
   "source": [
    "display(Audio(total_data[0], rate=16000))"
   ]
  },
  {
   "cell_type": "code",
   "execution_count": null,
   "id": "066eb155-3d7c-4b6f-b428-351b8fc4af62",
   "metadata": {},
   "outputs": [],
   "source": []
  }
 ],
 "metadata": {
  "kernelspec": {
   "display_name": "Python 3 (ipykernel)",
   "language": "python",
   "name": "python3"
  },
  "language_info": {
   "codemirror_mode": {
    "name": "ipython",
    "version": 3
   },
   "file_extension": ".py",
   "mimetype": "text/x-python",
   "name": "python",
   "nbconvert_exporter": "python",
   "pygments_lexer": "ipython3",
   "version": "3.11.7"
  }
 },
 "nbformat": 4,
 "nbformat_minor": 5
}
