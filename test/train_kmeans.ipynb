{
 "cells": [
  {
   "cell_type": "code",
   "execution_count": null,
   "metadata": {},
   "outputs": [],
   "source": [
    "import numpy as np\n",
    "from sklearn.cluster import KMeans, MiniBatchKMeans\n",
    "from threadpoolctl import threadpool_limits\n",
    "\n",
    "import sys\n",
    "sys.path.append('..')\n",
    "\n",
    "from .utils import find_files\n",
    "from .configs import KMeansClusterConfig"
   ]
  },
  {
   "cell_type": "code",
   "execution_count": null,
   "metadata": {},
   "outputs": [],
   "source": [
    "files = find_files(\n",
    "    '../data/embeddings_xs/',\n",
    "    ('npy')\n",
    ")\n",
    "\n",
    "len(files)"
   ]
  },
  {
   "cell_type": "code",
   "execution_count": null,
   "metadata": {},
   "outputs": [],
   "source": [
    "# Load embeddings\n",
    "embeddings = [np.load(f) for f in files]\n",
    "embeddings = np.concatenate(embeddings)\n",
    "\n",
    "print(embeddings.shape)\n",
    "# memory taken my embeddings\n",
    "print(embeddings.nbytes / 1024**3, 'GB')"
   ]
  },
  {
   "cell_type": "code",
   "execution_count": null,
   "metadata": {},
   "outputs": [],
   "source": [
    "with threadpool_limits(limits=12, user_api='blas'):\n",
    "    # Train KMeans\n",
    "    kmeans = KMeans(n_clusters=1024, random_state=0)\n",
    "    kmeans.fit(embeddings)"
   ]
  },
  {
   "cell_type": "code",
   "execution_count": null,
   "metadata": {},
   "outputs": [],
   "source": [
    "with threadpool_limits(limits=18, user_api='blas'):\n",
    "    # Train KMeans\n",
    "    kmeans = MiniBatchKMeans(\n",
    "        n_clusters=1024,\n",
    "        max_iter=KMeansClusterConfig.max_iter,\n",
    "        batch_size=KMeansClusterConfig.batch_size,\n",
    "        max_no_improvement=KMeansClusterConfig.max_no_improvement,\n",
    "        n_init=KMeansClusterConfig.n_init,\n",
    "        reassignment_ratio=KMeansClusterConfig.reassignment_ratio,\n",
    "        verbose=1,\n",
    "        compute_labels=True,\n",
    "        init_size=None,\n",
    "    )\n",
    "\n",
    "    kmeans.fit(embeddings)"
   ]
  },
  {
   "cell_type": "code",
   "execution_count": null,
   "metadata": {},
   "outputs": [],
   "source": [
    "print(kmeans.inertia_)"
   ]
  },
  {
   "cell_type": "code",
   "execution_count": null,
   "metadata": {},
   "outputs": [],
   "source": [
    "import joblib"
   ]
  },
  {
   "cell_type": "code",
   "execution_count": null,
   "metadata": {},
   "outputs": [],
   "source": [
    "joblib.dump(kmeans, '../data/kmeans_1024.pkl')"
   ]
  },
  {
   "cell_type": "code",
   "execution_count": null,
   "metadata": {},
   "outputs": [],
   "source": []
  }
 ],
 "metadata": {
  "kernelspec": {
   "display_name": "encodec",
   "language": "python",
   "name": "python3"
  },
  "language_info": {
   "codemirror_mode": {
    "name": "ipython",
    "version": 3
   },
   "file_extension": ".py",
   "mimetype": "text/x-python",
   "name": "python",
   "nbconvert_exporter": "python",
   "pygments_lexer": "ipython3",
   "version": "3.11.6"
  }
 },
 "nbformat": 4,
 "nbformat_minor": 2
}
