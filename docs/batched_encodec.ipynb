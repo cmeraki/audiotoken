{
 "cells": [
  {
   "cell_type": "markdown",
   "metadata": {},
   "source": [
    "This notebook showcases how to use the voice encoder based on `encodec`"
   ]
  },
  {
   "cell_type": "code",
   "execution_count": null,
   "metadata": {},
   "outputs": [],
   "source": [
    "import sys\n",
    "sys.path.append('..')"
   ]
  },
  {
   "cell_type": "code",
   "execution_count": null,
   "metadata": {},
   "outputs": [],
   "source": [
    "from queue import Queue\n",
    "from src.encoder import VoiceEncoder\n",
    "from src.decoder import VoiceDecoder\n",
    "from src.utils import read_audio\n",
    "\n",
    "from IPython.display import Audio\n",
    "from encodec.utils import save_audio"
   ]
  },
  {
   "cell_type": "code",
   "execution_count": null,
   "metadata": {},
   "outputs": [],
   "source": [
    "voice_encoder = VoiceEncoder(\n",
    "   bandwidth=6.0,\n",
    "   single_segment_duration=5,\n",
    "   batch_size=128,\n",
    "   overlap=0,\n",
    "   device='cuda:0'\n",
    ")\n",
    "\n",
    "voice_decoder = VoiceDecoder(\n",
    "   bandwidth=6.0,\n",
    "   single_segment_duration=5,\n",
    "   overlap=0,\n",
    "   device='cuda:0'\n",
    ")"
   ]
  },
  {
   "cell_type": "code",
   "execution_count": null,
   "metadata": {},
   "outputs": [],
   "source": [
    "audio_files_path = [\n",
    "    '../data/test-clean/LibriSpeech/test-clean/260/123286/260-123286-0019.flac'\n",
    "]\n",
    "\n",
    "# Prepare a Queue for sending to the voice encoder\n",
    "audio_files = Queue()\n",
    "original_audio = []\n",
    "\n",
    "for a in audio_files_path:\n",
    "    wav = read_audio(a, 24_000)\n",
    "    wav = wav[:, :24_000*30]\n",
    "    audio_files.put((wav, a))\n",
    "    original_audio.append(wav)"
   ]
  },
  {
   "cell_type": "markdown",
   "metadata": {},
   "source": [
    "### Batched encodec - encoder and decoder\n",
    "\n",
    "Both encoder and decoder requires a Queue\n",
    "- Encoder requires a queue where each element is an audio tensor\n",
    "- Decoder requires a queue where each element is a batch of (B, K, T) where B is the batch size, K is the number of codebooks and T is the sequence length"
   ]
  },
  {
   "cell_type": "code",
   "execution_count": null,
   "metadata": {},
   "outputs": [],
   "source": [
    "encoder = voice_encoder(audio_files)\n",
    "\n",
    "# Save the results of the encoded audio in a queue to send to the decoder\n",
    "encoded_q = Queue()\n",
    "\n",
    "for batch in encoder:\n",
    "    encoded_q.put(batch[0])\n",
    "    print(f'Filename and start idx, end idx: {batch[1]}')\n",
    "\n",
    "out_audio = []\n",
    "decoder = voice_decoder(encoded_q)\n",
    "\n",
    "for batch in decoder:\n",
    "    out_audio.append(batch)"
   ]
  },
  {
   "cell_type": "markdown",
   "metadata": {},
   "source": [
    "### Naive encodec\n",
    "\n",
    "The encodec by default takes a single audio file and encodes/decodes it in one go"
   ]
  },
  {
   "cell_type": "code",
   "execution_count": null,
   "metadata": {},
   "outputs": [],
   "source": [
    "temp = original_audio[0].unsqueeze(0).to('cuda:0')\n",
    "original_impl = voice_encoder.model(temp)"
   ]
  },
  {
   "cell_type": "markdown",
   "metadata": {},
   "source": [
    "Play all 3 audios and compare:\n",
    "\n",
    "1. Original audio\n",
    "2. Naive encoding, decoding\n",
    "3. Batched encoding, decoding"
   ]
  },
  {
   "cell_type": "code",
   "execution_count": null,
   "metadata": {},
   "outputs": [],
   "source": [
    "# Original audio\n",
    "Audio(original_audio[0], rate=24_000)"
   ]
  },
  {
   "cell_type": "code",
   "execution_count": null,
   "metadata": {},
   "outputs": [],
   "source": [
    "# Reconstructed audio all at one go\n",
    "Audio(original_impl.detach().cpu().numpy().flatten(), rate=24_000)"
   ]
  },
  {
   "cell_type": "code",
   "execution_count": null,
   "metadata": {},
   "outputs": [],
   "source": [
    "# Reconstructed audio in segments\n",
    "Audio(out_audio[0].cpu().flatten(), rate=24_000)"
   ]
  },
  {
   "cell_type": "code",
   "execution_count": null,
   "metadata": {},
   "outputs": [],
   "source": [
    "save_audio(original_impl.detach().cpu().squeeze(0), 'naive_encodec.wav', sample_rate=24_000)\n",
    "save_audio(out_audio[0].detach().cpu().unsqueeze(0), 'batched_encodec.wav', sample_rate=24_000)"
   ]
  },
  {
   "cell_type": "code",
   "execution_count": null,
   "metadata": {},
   "outputs": [],
   "source": []
  }
 ],
 "metadata": {
  "kernelspec": {
   "display_name": "indri",
   "language": "python",
   "name": "python3"
  },
  "language_info": {
   "codemirror_mode": {
    "name": "ipython",
    "version": 3
   },
   "file_extension": ".py",
   "mimetype": "text/x-python",
   "name": "python",
   "nbconvert_exporter": "python",
   "pygments_lexer": "ipython3",
   "version": "3.11.7"
  }
 },
 "nbformat": 4,
 "nbformat_minor": 2
}
